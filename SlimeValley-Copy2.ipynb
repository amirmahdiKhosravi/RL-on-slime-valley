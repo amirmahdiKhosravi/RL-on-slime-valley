{
 "cells": [
  {
   "cell_type": "markdown",
   "id": "b37d5b88",
   "metadata": {},
   "source": [
    "# **Code for first presentation**"
   ]
  },
  {
   "cell_type": "code",
   "execution_count": 37,
   "id": "535f5640",
   "metadata": {},
   "outputs": [],
   "source": [
    "import gym\n",
    "import slimevolleygym\n",
    "from gym import wrappers\n",
    "import time\n",
    "from matplotlib import animation\n",
    "import matplotlib.pyplot as plt\n",
    "env_to_wrap = gym.make(\"SlimeVolley-v0\")"
   ]
  },
  {
   "cell_type": "code",
   "execution_count": 2,
   "id": "66708eb5",
   "metadata": {},
   "outputs": [
    {
     "name": "stdout",
     "output_type": "stream",
     "text": [
      "Episode finished after 553 timesteps\n"
     ]
    }
   ],
   "source": [
    "env = wrappers.Monitor(env_to_wrap, './videos/SlimeVolley' + time.strftime('%Y_%m_%d_%H_%S') + '/', force = True)\n",
    "state = env.reset()\n",
    "t=0\n",
    "while True:\n",
    "    t+=1\n",
    "    env.render()\n",
    "    action = env.action_space.sample()\n",
    "    state, reward, done, info = env.step(action)\n",
    "    if done:\n",
    "        print(\"Episode finished after {} timesteps\".format(t+1))\n",
    "        break\n",
    "env.close()\n",
    "env_to_wrap.close()"
   ]
  },
  {
   "cell_type": "code",
   "execution_count": 7,
   "id": "27ab433a",
   "metadata": {},
   "outputs": [
    {
     "data": {
      "text/plain": [
       "['NOOP', 'UP', 'RIGHT', 'LEFT', 'UPRIGHT', 'UPLEFT']"
      ]
     },
     "execution_count": 7,
     "metadata": {},
     "output_type": "execute_result"
    }
   ],
   "source": [
    "env = gym.make(\"SlimeVolley-v0\")\n",
    "env.unwrapped.get_action_meanings()"
   ]
  },
  {
   "cell_type": "markdown",
   "id": "839c9cda",
   "metadata": {},
   "source": [
    "# **Second part of the project**"
   ]
  },
  {
   "cell_type": "code",
   "execution_count": 38,
   "id": "661f1b77",
   "metadata": {},
   "outputs": [
    {
     "name": "stdout",
     "output_type": "stream",
     "text": [
      "Requirement already satisfied: tensorflow==1.15 in /home/amirmahdi/anaconda3/envs/RL_Project2/lib/python3.7/site-packages (1.15.0)\n",
      "Requirement already satisfied: absl-py>=0.7.0 in /home/amirmahdi/anaconda3/envs/RL_Project2/lib/python3.7/site-packages (from tensorflow==1.15) (1.0.0)\n",
      "Requirement already satisfied: gast==0.2.2 in /home/amirmahdi/anaconda3/envs/RL_Project2/lib/python3.7/site-packages (from tensorflow==1.15) (0.2.2)\n",
      "Requirement already satisfied: tensorboard<1.16.0,>=1.15.0 in /home/amirmahdi/anaconda3/envs/RL_Project2/lib/python3.7/site-packages (from tensorflow==1.15) (1.15.0)\n",
      "Requirement already satisfied: opt-einsum>=2.3.2 in /home/amirmahdi/anaconda3/envs/RL_Project2/lib/python3.7/site-packages (from tensorflow==1.15) (3.3.0)\n",
      "Requirement already satisfied: six>=1.10.0 in /home/amirmahdi/anaconda3/envs/RL_Project2/lib/python3.7/site-packages (from tensorflow==1.15) (1.16.0)\n",
      "Requirement already satisfied: protobuf>=3.6.1 in /home/amirmahdi/anaconda3/envs/RL_Project2/lib/python3.7/site-packages (from tensorflow==1.15) (3.19.1)\n",
      "Requirement already satisfied: termcolor>=1.1.0 in /home/amirmahdi/anaconda3/envs/RL_Project2/lib/python3.7/site-packages (from tensorflow==1.15) (1.1.0)\n",
      "Requirement already satisfied: keras-applications>=1.0.8 in /home/amirmahdi/anaconda3/envs/RL_Project2/lib/python3.7/site-packages (from tensorflow==1.15) (1.0.8)\n",
      "Requirement already satisfied: wheel>=0.26 in /home/amirmahdi/anaconda3/envs/RL_Project2/lib/python3.7/site-packages (from tensorflow==1.15) (0.37.0)\n",
      "Requirement already satisfied: numpy<2.0,>=1.16.0 in /home/amirmahdi/anaconda3/envs/RL_Project2/lib/python3.7/site-packages (from tensorflow==1.15) (1.21.5)\n",
      "Requirement already satisfied: wrapt>=1.11.1 in /home/amirmahdi/anaconda3/envs/RL_Project2/lib/python3.7/site-packages (from tensorflow==1.15) (1.13.3)\n",
      "Requirement already satisfied: grpcio>=1.8.6 in /home/amirmahdi/anaconda3/envs/RL_Project2/lib/python3.7/site-packages (from tensorflow==1.15) (1.42.0)\n",
      "Requirement already satisfied: google-pasta>=0.1.6 in /home/amirmahdi/anaconda3/envs/RL_Project2/lib/python3.7/site-packages (from tensorflow==1.15) (0.2.0)\n",
      "Requirement already satisfied: keras-preprocessing>=1.0.5 in /home/amirmahdi/anaconda3/envs/RL_Project2/lib/python3.7/site-packages (from tensorflow==1.15) (1.1.2)\n",
      "Requirement already satisfied: tensorflow-estimator==1.15.1 in /home/amirmahdi/anaconda3/envs/RL_Project2/lib/python3.7/site-packages (from tensorflow==1.15) (1.15.1)\n",
      "Requirement already satisfied: astor>=0.6.0 in /home/amirmahdi/anaconda3/envs/RL_Project2/lib/python3.7/site-packages (from tensorflow==1.15) (0.8.1)\n",
      "Requirement already satisfied: h5py in /home/amirmahdi/anaconda3/envs/RL_Project2/lib/python3.7/site-packages (from keras-applications>=1.0.8->tensorflow==1.15) (3.6.0)\n",
      "Requirement already satisfied: werkzeug>=0.11.15 in /home/amirmahdi/anaconda3/envs/RL_Project2/lib/python3.7/site-packages (from tensorboard<1.16.0,>=1.15.0->tensorflow==1.15) (2.0.2)\n",
      "Requirement already satisfied: setuptools>=41.0.0 in /home/amirmahdi/anaconda3/envs/RL_Project2/lib/python3.7/site-packages (from tensorboard<1.16.0,>=1.15.0->tensorflow==1.15) (58.0.4)\n",
      "Requirement already satisfied: markdown>=2.6.8 in /home/amirmahdi/anaconda3/envs/RL_Project2/lib/python3.7/site-packages (from tensorboard<1.16.0,>=1.15.0->tensorflow==1.15) (3.3.6)\n",
      "Requirement already satisfied: importlib-metadata>=4.4 in /home/amirmahdi/anaconda3/envs/RL_Project2/lib/python3.7/site-packages (from markdown>=2.6.8->tensorboard<1.16.0,>=1.15.0->tensorflow==1.15) (4.8.2)\n",
      "Requirement already satisfied: typing-extensions>=3.6.4 in /home/amirmahdi/anaconda3/envs/RL_Project2/lib/python3.7/site-packages (from importlib-metadata>=4.4->markdown>=2.6.8->tensorboard<1.16.0,>=1.15.0->tensorflow==1.15) (4.0.0)\n",
      "Requirement already satisfied: zipp>=0.5 in /home/amirmahdi/anaconda3/envs/RL_Project2/lib/python3.7/site-packages (from importlib-metadata>=4.4->markdown>=2.6.8->tensorboard<1.16.0,>=1.15.0->tensorflow==1.15) (3.6.0)\n",
      "Requirement already satisfied: cached-property in /home/amirmahdi/anaconda3/envs/RL_Project2/lib/python3.7/site-packages (from h5py->keras-applications>=1.0.8->tensorflow==1.15) (1.5.2)\n"
     ]
    }
   ],
   "source": [
    "#python version must be 3.7\n",
    "!pip install tensorflow==1.15"
   ]
  },
  {
   "cell_type": "code",
   "execution_count": 3,
   "id": "375e1a66",
   "metadata": {
    "collapsed": true
   },
   "outputs": [
    {
     "name": "stdout",
     "output_type": "stream",
     "text": [
      "Requirement already satisfied: stable-baselines[mpi]==2.10.2 in /home/amirmahdi/anaconda3/envs/RL_Project2/lib/python3.7/site-packages (2.10.2)\n",
      "Requirement already satisfied: scipy in /home/amirmahdi/anaconda3/envs/RL_Project2/lib/python3.7/site-packages (from stable-baselines[mpi]==2.10.2) (1.7.3)\n",
      "Requirement already satisfied: opencv-python in /home/amirmahdi/anaconda3/envs/RL_Project2/lib/python3.7/site-packages (from stable-baselines[mpi]==2.10.2) (4.5.4.60)\n",
      "Requirement already satisfied: pandas in /home/amirmahdi/anaconda3/envs/RL_Project2/lib/python3.7/site-packages (from stable-baselines[mpi]==2.10.2) (1.3.4)\n",
      "Requirement already satisfied: cloudpickle>=0.5.5 in /home/amirmahdi/anaconda3/envs/RL_Project2/lib/python3.7/site-packages (from stable-baselines[mpi]==2.10.2) (2.0.0)\n",
      "Requirement already satisfied: numpy in /home/amirmahdi/anaconda3/envs/RL_Project2/lib/python3.7/site-packages (from stable-baselines[mpi]==2.10.2) (1.21.4)\n",
      "Requirement already satisfied: joblib in /home/amirmahdi/anaconda3/envs/RL_Project2/lib/python3.7/site-packages (from stable-baselines[mpi]==2.10.2) (1.1.0)\n",
      "Requirement already satisfied: matplotlib in /home/amirmahdi/anaconda3/envs/RL_Project2/lib/python3.7/site-packages (from stable-baselines[mpi]==2.10.2) (3.5.0)\n",
      "Requirement already satisfied: gym[atari,classic_control]>=0.11 in /home/amirmahdi/anaconda3/envs/RL_Project2/lib/python3.7/site-packages (from stable-baselines[mpi]==2.10.2) (0.21.0)\n",
      "Requirement already satisfied: mpi4py in /home/amirmahdi/anaconda3/envs/RL_Project2/lib/python3.7/site-packages (from stable-baselines[mpi]==2.10.2) (3.1.3)\n",
      "Requirement already satisfied: importlib-metadata>=4.8.1 in /home/amirmahdi/anaconda3/envs/RL_Project2/lib/python3.7/site-packages (from gym[atari,classic_control]>=0.11->stable-baselines[mpi]==2.10.2) (4.8.2)\n",
      "Requirement already satisfied: pyglet>=1.4.0 in /home/amirmahdi/anaconda3/envs/RL_Project2/lib/python3.7/site-packages (from gym[atari,classic_control]>=0.11->stable-baselines[mpi]==2.10.2) (1.5.21)\n",
      "Requirement already satisfied: ale-py~=0.7.1 in /home/amirmahdi/anaconda3/envs/RL_Project2/lib/python3.7/site-packages (from gym[atari,classic_control]>=0.11->stable-baselines[mpi]==2.10.2) (0.7.3)\n",
      "Requirement already satisfied: importlib-resources in /home/amirmahdi/anaconda3/envs/RL_Project2/lib/python3.7/site-packages (from ale-py~=0.7.1->gym[atari,classic_control]>=0.11->stable-baselines[mpi]==2.10.2) (5.4.0)\n",
      "Requirement already satisfied: zipp>=0.5 in /home/amirmahdi/anaconda3/envs/RL_Project2/lib/python3.7/site-packages (from importlib-metadata>=4.8.1->gym[atari,classic_control]>=0.11->stable-baselines[mpi]==2.10.2) (3.6.0)\n",
      "Requirement already satisfied: typing-extensions>=3.6.4 in /home/amirmahdi/anaconda3/envs/RL_Project2/lib/python3.7/site-packages (from importlib-metadata>=4.8.1->gym[atari,classic_control]>=0.11->stable-baselines[mpi]==2.10.2) (4.0.0)\n",
      "Requirement already satisfied: cycler>=0.10 in /home/amirmahdi/anaconda3/envs/RL_Project2/lib/python3.7/site-packages (from matplotlib->stable-baselines[mpi]==2.10.2) (0.11.0)\n",
      "Requirement already satisfied: fonttools>=4.22.0 in /home/amirmahdi/anaconda3/envs/RL_Project2/lib/python3.7/site-packages (from matplotlib->stable-baselines[mpi]==2.10.2) (4.28.2)\n",
      "Requirement already satisfied: setuptools-scm>=4 in /home/amirmahdi/anaconda3/envs/RL_Project2/lib/python3.7/site-packages (from matplotlib->stable-baselines[mpi]==2.10.2) (6.3.2)\n",
      "Requirement already satisfied: pillow>=6.2.0 in /home/amirmahdi/anaconda3/envs/RL_Project2/lib/python3.7/site-packages (from matplotlib->stable-baselines[mpi]==2.10.2) (8.4.0)\n",
      "Requirement already satisfied: packaging>=20.0 in /home/amirmahdi/anaconda3/envs/RL_Project2/lib/python3.7/site-packages (from matplotlib->stable-baselines[mpi]==2.10.2) (21.3)\n",
      "Requirement already satisfied: pyparsing>=2.2.1 in /home/amirmahdi/anaconda3/envs/RL_Project2/lib/python3.7/site-packages (from matplotlib->stable-baselines[mpi]==2.10.2) (3.0.4)\n",
      "Requirement already satisfied: python-dateutil>=2.7 in /home/amirmahdi/anaconda3/envs/RL_Project2/lib/python3.7/site-packages (from matplotlib->stable-baselines[mpi]==2.10.2) (2.8.2)\n",
      "Requirement already satisfied: kiwisolver>=1.0.1 in /home/amirmahdi/anaconda3/envs/RL_Project2/lib/python3.7/site-packages (from matplotlib->stable-baselines[mpi]==2.10.2) (1.3.2)\n",
      "Requirement already satisfied: six>=1.5 in /home/amirmahdi/anaconda3/envs/RL_Project2/lib/python3.7/site-packages (from python-dateutil>=2.7->matplotlib->stable-baselines[mpi]==2.10.2) (1.16.0)\n",
      "Requirement already satisfied: tomli>=1.0.0 in /home/amirmahdi/anaconda3/envs/RL_Project2/lib/python3.7/site-packages (from setuptools-scm>=4->matplotlib->stable-baselines[mpi]==2.10.2) (1.2.2)\n",
      "Requirement already satisfied: setuptools in /home/amirmahdi/anaconda3/envs/RL_Project2/lib/python3.7/site-packages (from setuptools-scm>=4->matplotlib->stable-baselines[mpi]==2.10.2) (58.0.4)\n",
      "Requirement already satisfied: pytz>=2017.3 in /home/amirmahdi/anaconda3/envs/RL_Project2/lib/python3.7/site-packages (from pandas->stable-baselines[mpi]==2.10.2) (2021.3)\n",
      "Requirement already satisfied: slimevolleygym in /home/amirmahdi/anaconda3/envs/RL_Project2/lib/python3.7/site-packages (0.1.0)\n",
      "Requirement already satisfied: numpy>=1.13.0 in /home/amirmahdi/anaconda3/envs/RL_Project2/lib/python3.7/site-packages (from slimevolleygym) (1.21.4)\n",
      "Requirement already satisfied: gym>=0.9.4 in /home/amirmahdi/anaconda3/envs/RL_Project2/lib/python3.7/site-packages (from slimevolleygym) (0.21.0)\n",
      "Requirement already satisfied: importlib-metadata>=4.8.1 in /home/amirmahdi/anaconda3/envs/RL_Project2/lib/python3.7/site-packages (from gym>=0.9.4->slimevolleygym) (4.8.2)\n",
      "Requirement already satisfied: cloudpickle>=1.2.0 in /home/amirmahdi/anaconda3/envs/RL_Project2/lib/python3.7/site-packages (from gym>=0.9.4->slimevolleygym) (2.0.0)\n",
      "Requirement already satisfied: zipp>=0.5 in /home/amirmahdi/anaconda3/envs/RL_Project2/lib/python3.7/site-packages (from importlib-metadata>=4.8.1->gym>=0.9.4->slimevolleygym) (3.6.0)\n",
      "Requirement already satisfied: typing-extensions>=3.6.4 in /home/amirmahdi/anaconda3/envs/RL_Project2/lib/python3.7/site-packages (from importlib-metadata>=4.8.1->gym>=0.9.4->slimevolleygym) (4.0.0)\n"
     ]
    }
   ],
   "source": [
    "!pip install stable-baselines[mpi]==2.10.2\n",
    "!pip install slimevolleygym"
   ]
  },
  {
   "cell_type": "markdown",
   "id": "86ed993e",
   "metadata": {},
   "source": [
    "### PPO1 algorithm directly trained against Built-in expert agent"
   ]
  },
  {
   "cell_type": "code",
   "execution_count": 40,
   "id": "ed472aa3",
   "metadata": {},
   "outputs": [],
   "source": [
    "import gym\n",
    "import slimevolleygym\n",
    "from stable_baselines import PPO1\n",
    "from stable_baselines.common.evaluation import evaluate_policy\n",
    "from stable_baselines.common.callbacks import EvalCallback\n",
    "from stable_baselines.bench import Monitor\n",
    "import os\n",
    "import numpy as np"
   ]
  },
  {
   "cell_type": "code",
   "execution_count": 57,
   "id": "3ad4e996",
   "metadata": {},
   "outputs": [
    {
     "name": "stdout",
     "output_type": "stream",
     "text": [
      "Num timesteps: 768\n",
      "Best mean reward: -inf - Last mean reward per episode: -5.00\n",
      "Saving new best model to ./logs/best_model\n",
      "Num timesteps: 1792\n",
      "Best mean reward: -5.00 - Last mean reward per episode: -4.67\n",
      "Saving new best model to ./logs/best_model\n",
      "Num timesteps: 2816\n",
      "Best mean reward: -4.67 - Last mean reward per episode: -4.80\n",
      "Num timesteps: 3840\n",
      "Best mean reward: -4.67 - Last mean reward per episode: -4.86\n",
      "Num timesteps: 4864\n",
      "Best mean reward: -4.67 - Last mean reward per episode: -4.89\n",
      "Num timesteps: 5888\n",
      "Best mean reward: -4.67 - Last mean reward per episode: -4.91\n",
      "Num timesteps: 6912\n",
      "Best mean reward: -4.67 - Last mean reward per episode: -4.92\n",
      "Num timesteps: 7936\n",
      "Best mean reward: -4.67 - Last mean reward per episode: -4.93\n",
      "Num timesteps: 8960\n",
      "Best mean reward: -4.67 - Last mean reward per episode: -4.73\n",
      "Num timesteps: 9984\n",
      "Best mean reward: -4.67 - Last mean reward per episode: -4.76\n",
      "Num timesteps: 10752\n",
      "Best mean reward: -4.67 - Last mean reward per episode: -4.78\n",
      "Num timesteps: 11776\n",
      "Best mean reward: -4.67 - Last mean reward per episode: -4.75\n",
      "Num timesteps: 12800\n",
      "Best mean reward: -4.67 - Last mean reward per episode: -4.77\n",
      "Num timesteps: 13824\n",
      "Best mean reward: -4.67 - Last mean reward per episode: -4.78\n",
      "Num timesteps: 14848\n",
      "Best mean reward: -4.67 - Last mean reward per episode: -4.75\n",
      "Num timesteps: 15872\n",
      "Best mean reward: -4.67 - Last mean reward per episode: -4.73\n",
      "Num timesteps: 16896\n",
      "Best mean reward: -4.67 - Last mean reward per episode: -4.75\n",
      "Num timesteps: 17920\n",
      "Best mean reward: -4.67 - Last mean reward per episode: -4.76\n",
      "Num timesteps: 18944\n",
      "Best mean reward: -4.67 - Last mean reward per episode: -4.77\n",
      "Num timesteps: 19968\n",
      "Best mean reward: -4.67 - Last mean reward per episode: -4.79\n",
      "Num timesteps: 20992\n",
      "Best mean reward: -4.67 - Last mean reward per episode: -4.80\n",
      "Num timesteps: 21760\n",
      "Best mean reward: -4.67 - Last mean reward per episode: -4.81\n",
      "Num timesteps: 22784\n",
      "Best mean reward: -4.67 - Last mean reward per episode: -4.82\n",
      "Num timesteps: 23808\n",
      "Best mean reward: -4.67 - Last mean reward per episode: -4.83\n",
      "Num timesteps: 24832\n",
      "Best mean reward: -4.67 - Last mean reward per episode: -4.83\n",
      "Num timesteps: 25856\n",
      "Best mean reward: -4.67 - Last mean reward per episode: -4.84\n",
      "Num timesteps: 26880\n",
      "Best mean reward: -4.67 - Last mean reward per episode: -4.84\n",
      "Num timesteps: 27904\n",
      "Best mean reward: -4.67 - Last mean reward per episode: -4.85\n",
      "Num timesteps: 28928\n",
      "Best mean reward: -4.67 - Last mean reward per episode: -4.83\n",
      "Num timesteps: 29952\n",
      "Best mean reward: -4.67 - Last mean reward per episode: -4.82\n",
      "Num timesteps: 30976\n",
      "Best mean reward: -4.67 - Last mean reward per episode: -4.82\n",
      "Num timesteps: 31744\n",
      "Best mean reward: -4.67 - Last mean reward per episode: -4.83\n",
      "Num timesteps: 32768\n",
      "Best mean reward: -4.67 - Last mean reward per episode: -4.82\n",
      "Num timesteps: 33792\n",
      "Best mean reward: -4.67 - Last mean reward per episode: -4.82\n",
      "Num timesteps: 34816\n",
      "Best mean reward: -4.67 - Last mean reward per episode: -4.83\n",
      "Num timesteps: 35840\n",
      "Best mean reward: -4.67 - Last mean reward per episode: -4.83\n",
      "Num timesteps: 36864\n",
      "Best mean reward: -4.67 - Last mean reward per episode: -4.84\n",
      "Num timesteps: 37888\n",
      "Best mean reward: -4.67 - Last mean reward per episode: -4.84\n",
      "Num timesteps: 38912\n",
      "Best mean reward: -4.67 - Last mean reward per episode: -4.84\n",
      "Num timesteps: 39936\n",
      "Best mean reward: -4.67 - Last mean reward per episode: -4.85\n",
      "Num timesteps: 40960\n",
      "Best mean reward: -4.67 - Last mean reward per episode: -4.85\n",
      "Num timesteps: 41984\n",
      "Best mean reward: -4.67 - Last mean reward per episode: -4.85\n",
      "Num timesteps: 42752\n",
      "Best mean reward: -4.67 - Last mean reward per episode: -4.86\n",
      "Num timesteps: 43776\n",
      "Best mean reward: -4.67 - Last mean reward per episode: -4.86\n",
      "Num timesteps: 44800\n",
      "Best mean reward: -4.67 - Last mean reward per episode: -4.86\n",
      "Num timesteps: 45824\n",
      "Best mean reward: -4.67 - Last mean reward per episode: -4.86\n",
      "Num timesteps: 46848\n",
      "Best mean reward: -4.67 - Last mean reward per episode: -4.87\n",
      "Num timesteps: 47872\n",
      "Best mean reward: -4.67 - Last mean reward per episode: -4.87\n",
      "Num timesteps: 48896\n",
      "Best mean reward: -4.67 - Last mean reward per episode: -4.87\n",
      "Num timesteps: 49920\n",
      "Best mean reward: -4.67 - Last mean reward per episode: -4.88\n",
      "Num timesteps: 50944\n",
      "Best mean reward: -4.67 - Last mean reward per episode: -4.87\n",
      "Num timesteps: 51968\n",
      "Best mean reward: -4.67 - Last mean reward per episode: -4.87\n",
      "Num timesteps: 52992\n",
      "Best mean reward: -4.67 - Last mean reward per episode: -4.87\n",
      "Num timesteps: 53760\n",
      "Best mean reward: -4.67 - Last mean reward per episode: -4.87\n",
      "Num timesteps: 54784\n",
      "Best mean reward: -4.67 - Last mean reward per episode: -4.88\n",
      "Num timesteps: 55808\n",
      "Best mean reward: -4.67 - Last mean reward per episode: -4.88\n",
      "Num timesteps: 56832\n",
      "Best mean reward: -4.67 - Last mean reward per episode: -4.88\n",
      "Num timesteps: 57856\n",
      "Best mean reward: -4.67 - Last mean reward per episode: -4.88\n",
      "Num timesteps: 58880\n",
      "Best mean reward: -4.67 - Last mean reward per episode: -4.86\n",
      "Num timesteps: 59904\n",
      "Best mean reward: -4.67 - Last mean reward per episode: -4.87\n",
      "Num timesteps: 60928\n",
      "Best mean reward: -4.67 - Last mean reward per episode: -4.87\n",
      "Num timesteps: 61952\n",
      "Best mean reward: -4.67 - Last mean reward per episode: -4.87\n",
      "Num timesteps: 62976\n",
      "Best mean reward: -4.67 - Last mean reward per episode: -4.86\n",
      "Num timesteps: 63744\n",
      "Best mean reward: -4.67 - Last mean reward per episode: -4.87\n",
      "Num timesteps: 64768\n",
      "Best mean reward: -4.67 - Last mean reward per episode: -4.87\n",
      "Num timesteps: 65792\n",
      "Best mean reward: -4.67 - Last mean reward per episode: -4.87\n",
      "Num timesteps: 66816\n",
      "Best mean reward: -4.67 - Last mean reward per episode: -4.87\n",
      "Num timesteps: 67840\n",
      "Best mean reward: -4.67 - Last mean reward per episode: -4.87\n",
      "Num timesteps: 68864\n",
      "Best mean reward: -4.67 - Last mean reward per episode: -4.87\n",
      "Num timesteps: 69888\n",
      "Best mean reward: -4.67 - Last mean reward per episode: -4.86\n",
      "Num timesteps: 70912\n",
      "Best mean reward: -4.67 - Last mean reward per episode: -4.89\n",
      "Num timesteps: 71936\n",
      "Best mean reward: -4.67 - Last mean reward per episode: -4.89\n",
      "Num timesteps: 72960\n",
      "Best mean reward: -4.67 - Last mean reward per episode: -4.90\n",
      "Num timesteps: 73984\n",
      "Best mean reward: -4.67 - Last mean reward per episode: -4.90\n",
      "Num timesteps: 74752\n",
      "Best mean reward: -4.67 - Last mean reward per episode: -4.90\n",
      "Num timesteps: 75776\n",
      "Best mean reward: -4.67 - Last mean reward per episode: -4.91\n",
      "Num timesteps: 76800\n",
      "Best mean reward: -4.67 - Last mean reward per episode: -4.92\n",
      "Num timesteps: 77824\n",
      "Best mean reward: -4.67 - Last mean reward per episode: -4.92\n",
      "Num timesteps: 78848\n",
      "Best mean reward: -4.67 - Last mean reward per episode: -4.92\n",
      "Num timesteps: 79872\n",
      "Best mean reward: -4.67 - Last mean reward per episode: -4.92\n",
      "Num timesteps: 80896\n",
      "Best mean reward: -4.67 - Last mean reward per episode: -4.92\n",
      "Num timesteps: 81920\n",
      "Best mean reward: -4.67 - Last mean reward per episode: -4.92\n",
      "Num timesteps: 82944\n",
      "Best mean reward: -4.67 - Last mean reward per episode: -4.92\n",
      "Num timesteps: 83968\n",
      "Best mean reward: -4.67 - Last mean reward per episode: -4.92\n",
      "Num timesteps: 84992\n",
      "Best mean reward: -4.67 - Last mean reward per episode: -4.92\n",
      "Num timesteps: 85760\n",
      "Best mean reward: -4.67 - Last mean reward per episode: -4.92\n",
      "Num timesteps: 86784\n",
      "Best mean reward: -4.67 - Last mean reward per episode: -4.92\n",
      "Num timesteps: 87808\n",
      "Best mean reward: -4.67 - Last mean reward per episode: -4.92\n",
      "Num timesteps: 88832\n",
      "Best mean reward: -4.67 - Last mean reward per episode: -4.91\n",
      "Num timesteps: 89856\n",
      "Best mean reward: -4.67 - Last mean reward per episode: -4.91\n",
      "Num timesteps: 90880\n",
      "Best mean reward: -4.67 - Last mean reward per episode: -4.91\n",
      "Num timesteps: 91904\n",
      "Best mean reward: -4.67 - Last mean reward per episode: -4.92\n",
      "Num timesteps: 92928\n",
      "Best mean reward: -4.67 - Last mean reward per episode: -4.92\n",
      "Num timesteps: 93952\n",
      "Best mean reward: -4.67 - Last mean reward per episode: -4.92\n",
      "Num timesteps: 94976\n",
      "Best mean reward: -4.67 - Last mean reward per episode: -4.93\n",
      "Num timesteps: 95744\n",
      "Best mean reward: -4.67 - Last mean reward per episode: -4.93\n",
      "Num timesteps: 96768\n",
      "Best mean reward: -4.67 - Last mean reward per episode: -4.93\n",
      "Num timesteps: 97792\n",
      "Best mean reward: -4.67 - Last mean reward per episode: -4.93\n"
     ]
    },
    {
     "name": "stdout",
     "output_type": "stream",
     "text": [
      "Num timesteps: 98816\n",
      "Best mean reward: -4.67 - Last mean reward per episode: -4.93\n",
      "Num timesteps: 99840\n",
      "Best mean reward: -4.67 - Last mean reward per episode: -4.93\n",
      "mean_reward:-5.00 +/- 0.00\n"
     ]
    }
   ],
   "source": [
    "env = gym.make('SlimeVolley-v0')\n",
    "env = Monitor(env, './logs/')\n",
    "eval_env = gym.make('SlimeVolley-v0')\n",
    "\n",
    "eval_callback = SaveOnBestTrainingRewardCallback(check_freq=1000, log_dir='./logs/')\n",
    "\"\"\"eval_callback = EvalCallback(eval_env, best_model_save_path='./logs/',\n",
    "                             log_path='./logs/', eval_freq=500,\n",
    "                             deterministic=False, render=False)\"\"\"\n",
    "\n",
    "model = PPO1('MlpPolicy', env, verbose=0)\n",
    "model.learn(total_timesteps=100000, callback=eval_callback)\n",
    "\n",
    "# Evaluate the trained agent\n",
    "mean_reward, std_reward = evaluate_policy(model, eval_env, n_eval_episodes=1)\n",
    "\n",
    "print(f\"mean_reward:{mean_reward:.2f} +/- {std_reward:.2f}\")"
   ]
  },
  {
   "cell_type": "markdown",
   "id": "5cffff48",
   "metadata": {},
   "source": [
    "### chart"
   ]
  },
  {
   "cell_type": "code",
   "execution_count": 21,
   "id": "23fc2982",
   "metadata": {},
   "outputs": [],
   "source": [
    "from stable_baselines import results_plotter\n",
    "from stable_baselines.results_plotter import load_results, ts2xy\n",
    "import numpy as np\n",
    "import matplotlib.pyplot as plt"
   ]
  },
  {
   "cell_type": "code",
   "execution_count": 42,
   "id": "b29e7455",
   "metadata": {},
   "outputs": [
    {
     "data": {
      "image/png": "[encoded data removed]",
      "text/plain": [
       "<Figure size 576x144 with 1 Axes>"
      ]
     },
     "metadata": {
      "needs_background": "light"
     },
     "output_type": "display_data"
    }
   ],
   "source": [
    "from stable_baselines import results_plotter\n",
    "\n",
    "# Helper from the library\n",
    "results_plotter.plot_results(['./logs/'], 1e5, results_plotter.X_TIMESTEPS, \"DDPG LunarLander\")"
   ]
  },
  {
   "cell_type": "code",
   "execution_count": 59,
   "id": "70452d8b",
   "metadata": {},
   "outputs": [],
   "source": [
    "def moving_average(values, window):\n",
    "    \"\"\"\n",
    "    Smooth values by doing a moving average\n",
    "    :param values: (numpy array)\n",
    "    :param window: (int)\n",
    "    :return: (numpy array)\n",
    "    \"\"\"\n",
    "    weights = np.repeat(1.0, window) / window\n",
    "    return np.convolve(values, weights, 'valid')\n",
    "\n",
    "\n",
    "def plot_results(log_folder, title='Learning Curve'):\n",
    "    \"\"\"\n",
    "    plot the results\n",
    "\n",
    "    :param log_folder: (str) the save location of the results to plot\n",
    "    :param title: (str) the title of the task to plot\n",
    "    \"\"\"\n",
    "    x, y = ts2xy(load_results(log_folder), 'timesteps')\n",
    "    print(x)\n",
    "    print(y)\n",
    "    y = moving_average(y, window=50)\n",
    "    # Truncate x\n",
    "    x = x[len(x) - len(y):]\n",
    "\n",
    "    fig = plt.figure(title)\n",
    "    plt.plot(x, y)\n",
    "    plt.xlabel('Number of Timesteps')\n",
    "    plt.ylabel('Rewards')\n",
    "    plt.title(title + \" Smoothed\")\n",
    "    plt.show()\n"
   ]
  },
  {
   "cell_type": "code",
   "execution_count": 60,
   "id": "d6242350",
   "metadata": {},
   "outputs": [
    {
     "name": "stdout",
     "output_type": "stream",
     "text": [
      "[  492  1117  1642 ... 98719 99257 99856]\n",
      "[-5 -4 -5 ... -5 -5 -5]\n"
     ]
    },
    {
     "data": {
      "image/png": "[encoded data removed]",
      "text/plain": [
       "<Figure size 432x288 with 1 Axes>"
      ]
     },
     "metadata": {
      "needs_background": "light"
     },
     "output_type": "display_data"
    }
   ],
   "source": [
    "plot_results('./logs/')"
   ]
  },
  {
   "cell_type": "markdown",
   "id": "9af2898c",
   "metadata": {},
   "source": [
    "### Video"
   ]
  },
  {
   "cell_type": "code",
   "execution_count": 16,
   "id": "ad9972e2",
   "metadata": {},
   "outputs": [],
   "source": [
    "from gym import wrappers\n",
    "import time\n",
    "from matplotlib import animation\n",
    "import matplotlib.pyplot as plt"
   ]
  },
  {
   "cell_type": "code",
   "execution_count": 21,
   "id": "4167a45c",
   "metadata": {},
   "outputs": [
    {
     "name": "stdout",
     "output_type": "stream",
     "text": [
      "Episode finished after 608 timesteps\n"
     ]
    }
   ],
   "source": [
    "env = wrappers.Monitor(eval_env, './videos/SlimeVolley' + time.strftime('%Y_%m_%d_%H_%M') + '_PPO' +'/', force = True)\n",
    "state = env.reset()\n",
    "t=0\n",
    "while True:\n",
    "    t+=1\n",
    "    env.render()\n",
    "    action, _states = model.predict(state)\n",
    "    state, reward, done, info = env.step(action)\n",
    "    if done:\n",
    "        print(\"Episode finished after {} timesteps\".format(t+1))\n",
    "        break\n",
    "env.close()\n",
    "eval_env.close()"
   ]
  },
  {
   "cell_type": "markdown",
   "id": "83e26684",
   "metadata": {},
   "source": [
    "### PPO2 algorithm directly trained against Built-in expert agent"
   ]
  },
  {
   "cell_type": "code",
   "execution_count": null,
   "id": "aa38ef7b",
   "metadata": {},
   "outputs": [],
   "source": [
    "from stable_baselines import PPO2\n",
    "env = gym.make('SlimeVolley-v0')\n",
    "\n",
    "eval_callback = EvalCallback(eval_env, best_model_save_path='./logs/',\n",
    "                             log_path='./logs/', eval_freq=500,\n",
    "                             deterministic=False, render=False)\n",
    "\n",
    "model = PPO2('MlpPolicy', env, verbose=0)\n",
    "model.learn(total_timesteps=10000, callback=eval_callback)\n",
    "\n",
    "# Evaluate the trained agent\n",
    "mean_reward, std_reward = evaluate_policy(model, eval_env, n_eval_episodes=100)\n"
   ]
  },
  {
   "cell_type": "markdown",
   "id": "2cb99b36",
   "metadata": {},
   "source": [
    "### Optimized PPO1 algorithm directly trained against Built-in expert agent"
   ]
  },
  {
   "cell_type": "code",
   "execution_count": null,
   "id": "babc7e53",
   "metadata": {},
   "outputs": [],
   "source": [
    "env = gym.make('SlimeVolley-v0')\n",
    "eval_env = gym.make('SlimeVolley-v0')\n",
    "\n",
    "eval_callback = EvalCallback(eval_env, best_model_save_path='./logs/',\n",
    "                             log_path='./logs/', eval_freq=10000,\n",
    "                             deterministic=False, render=False)\n",
    "\n",
    "model_1 = PPO1('MlpPolicy', env, timesteps_per_actorbatch=4096, clip_param=0.2, entcoeff=0.0\n",
    "               , optim_epochs=10,optim_stepsize=3e-4, optim_batchsize=64, gamma=0.99\n",
    "               , lam=0.95, schedule='linear', verbose=2)\n",
    "model_1.learn(total_timesteps=1000000, callback=eval_callback)\n",
    "model_1.save(os.path.join('models', \"PPO_model\"))\n",
    "\n",
    "# Evaluate the trained agent\n",
    "mean_reward, std_reward = evaluate_policy(model_1, eval_env, n_eval_episodes=100)\n",
    "\n",
    "print(f\"mean_reward:{mean_reward:.2f} +/- {std_reward:.2f}\")"
   ]
  },
  {
   "cell_type": "markdown",
   "id": "3928e63a",
   "metadata": {},
   "source": [
    "### Video"
   ]
  },
  {
   "cell_type": "code",
   "execution_count": null,
   "id": "7a898287",
   "metadata": {},
   "outputs": [],
   "source": [
    "env = wrappers.Monitor(eval_env, './videos/SlimeVolley' + time.strftime('%Y_%m_%d_%H_%M') + '_PPO' +'/', force = True)\n",
    "state = env.reset()\n",
    "t=0\n",
    "while True:\n",
    "    t+=1\n",
    "    env.render()\n",
    "    action, _states = model_1.predict(state)\n",
    "    state, reward, done, info = env.step(action)\n",
    "    if done:\n",
    "        print(\"Episode finished after {} timesteps\".format(t+1))\n",
    "        break\n",
    "env.close()\n",
    "eval_env.close()"
   ]
  },
  {
   "cell_type": "markdown",
   "id": "9269a5fc",
   "metadata": {},
   "source": [
    "## **A2C directly traind against Built-in expert againt**"
   ]
  },
  {
   "cell_type": "code",
   "execution_count": 4,
   "id": "a9f665c8",
   "metadata": {},
   "outputs": [],
   "source": [
    "from stable_baselines import A2C"
   ]
  },
  {
   "cell_type": "code",
   "execution_count": 5,
   "id": "cbd8c704",
   "metadata": {
    "collapsed": true
   },
   "outputs": [
    {
     "name": "stdout",
     "output_type": "stream",
     "text": [
      "Wrapping the env in a DummyVecEnv.\n",
      "WARNING:tensorflow:From /home/amirmahdi/anaconda3/envs/RL_Project2/lib/python3.7/site-packages/stable_baselines/a2c/a2c.py:184: The name tf.train.RMSPropOptimizer is deprecated. Please use tf.compat.v1.train.RMSPropOptimizer instead.\n",
      "\n",
      "WARNING:tensorflow:From /home/amirmahdi/anaconda3/envs/RL_Project2/lib/python3.7/site-packages/tensorflow_core/python/training/rmsprop.py:119: calling Ones.__init__ (from tensorflow.python.ops.init_ops) with dtype is deprecated and will be removed in a future version.\n",
      "Instructions for updating:\n",
      "Call initializer instance with the dtype argument instead of passing it to the constructor\n",
      "WARNING:tensorflow:From /home/amirmahdi/anaconda3/envs/RL_Project2/lib/python3.7/site-packages/stable_baselines/a2c/a2c.py:194: The name tf.global_variables_initializer is deprecated. Please use tf.compat.v1.global_variables_initializer instead.\n",
      "\n",
      "---------------------------------------\n",
      "| EpLenMean          | 631            |\n",
      "| EpRewMean          | -4.69          |\n",
      "| EpThisIter         | 1              |\n",
      "| EpisodesSoFar      | 16             |\n",
      "| TimeElapsed        | 74.1           |\n",
      "| TimestepsSoFar     | 10240          |\n",
      "| ev_tdlam_before    | 0.888          |\n",
      "| explained_variance | -145           |\n",
      "| fps                | 13             |\n",
      "| loss_ent           | 1.9290515      |\n",
      "| loss_kl            | 3.0267984e-08  |\n",
      "| loss_pol_entpen    | -0.019290514   |\n",
      "| loss_pol_surr      | -4.6381727e-05 |\n",
      "| loss_vf_loss       | 0.005139376    |\n",
      "| nupdates           | 1              |\n",
      "| policy_entropy     | 2.08           |\n",
      "| total_timesteps    | 5              |\n",
      "| value_loss         | 0.0156         |\n",
      "---------------------------------------\n",
      "Eval num_timesteps=500, episode_reward=-5.00 +/- 0.00\n",
      "Episode length: 574.80 +/- 106.51\n",
      "New best mean reward!\n",
      "----------------------------------\n",
      "| explained_variance | -1.13e+05 |\n",
      "| fps                | 119       |\n",
      "| nupdates           | 100       |\n",
      "| policy_entropy     | 2.08      |\n",
      "| total_timesteps    | 500       |\n",
      "| value_loss         | 0.0218    |\n",
      "----------------------------------\n",
      "Eval num_timesteps=1000, episode_reward=-5.00 +/- 0.00\n",
      "Episode length: 566.60 +/- 118.37\n",
      "---------------------------------\n",
      "| explained_variance | -106     |\n",
      "| fps                | 130      |\n",
      "| nupdates           | 200      |\n",
      "| policy_entropy     | 2.08     |\n",
      "| total_timesteps    | 1000     |\n",
      "| value_loss         | 0.0102   |\n",
      "---------------------------------\n",
      "Eval num_timesteps=1500, episode_reward=-5.00 +/- 0.00\n",
      "Episode length: 584.20 +/- 74.25\n",
      "---------------------------------\n",
      "| explained_variance | -28.5    |\n",
      "| fps                | 135      |\n",
      "| nupdates           | 300      |\n",
      "| policy_entropy     | 2.08     |\n",
      "| total_timesteps    | 1500     |\n",
      "| value_loss         | 0.00602  |\n",
      "---------------------------------\n",
      "Eval num_timesteps=2000, episode_reward=-5.00 +/- 0.00\n",
      "Episode length: 585.20 +/- 93.86\n",
      "---------------------------------\n",
      "| explained_variance | -252     |\n",
      "| fps                | 136      |\n",
      "| nupdates           | 400      |\n",
      "| policy_entropy     | 2.08     |\n",
      "| total_timesteps    | 2000     |\n",
      "| value_loss         | 0.00621  |\n",
      "---------------------------------\n",
      "Eval num_timesteps=2500, episode_reward=-5.00 +/- 0.00\n",
      "Episode length: 558.80 +/- 100.22\n",
      "---------------------------------\n",
      "| explained_variance | -951     |\n",
      "| fps                | 137      |\n",
      "| nupdates           | 500      |\n",
      "| policy_entropy     | 2.08     |\n",
      "| total_timesteps    | 2500     |\n",
      "| value_loss         | 0.0129   |\n",
      "---------------------------------\n",
      "Eval num_timesteps=3000, episode_reward=-5.00 +/- 0.00\n",
      "Episode length: 492.40 +/- 86.21\n",
      "----------------------------------\n",
      "| explained_variance | -2.26e+03 |\n",
      "| fps                | 141       |\n",
      "| nupdates           | 600       |\n",
      "| policy_entropy     | 2.08      |\n",
      "| total_timesteps    | 3000      |\n",
      "| value_loss         | 0.0704    |\n",
      "----------------------------------\n",
      "Eval num_timesteps=3500, episode_reward=-5.00 +/- 0.00\n",
      "Episode length: 539.20 +/- 32.88\n",
      "---------------------------------\n",
      "| explained_variance | -336     |\n",
      "| fps                | 142      |\n",
      "| nupdates           | 700      |\n",
      "| policy_entropy     | 2.08     |\n",
      "| total_timesteps    | 3500     |\n",
      "| value_loss         | 0.0147   |\n",
      "---------------------------------\n",
      "Eval num_timesteps=4000, episode_reward=-4.80 +/- 0.40\n",
      "Episode length: 600.80 +/- 99.72\n",
      "New best mean reward!\n",
      "----------------------------------\n",
      "| explained_variance | -1.02e+03 |\n",
      "| fps                | 143       |\n",
      "| nupdates           | 800       |\n",
      "| policy_entropy     | 2.07      |\n",
      "| total_timesteps    | 4000      |\n",
      "| value_loss         | 0.0455    |\n",
      "----------------------------------\n",
      "Eval num_timesteps=4500, episode_reward=-4.80 +/- 0.40\n",
      "Episode length: 527.80 +/- 49.28\n",
      "---------------------------------\n",
      "| explained_variance | -469     |\n",
      "| fps                | 144      |\n",
      "| nupdates           | 900      |\n",
      "| policy_entropy     | 2.08     |\n",
      "| total_timesteps    | 4500     |\n",
      "| value_loss         | 0.0108   |\n",
      "---------------------------------\n",
      "Eval num_timesteps=5000, episode_reward=-4.60 +/- 0.49\n",
      "Episode length: 599.80 +/- 130.54\n",
      "New best mean reward!\n",
      "---------------------------------\n",
      "| explained_variance | -186     |\n",
      "| fps                | 145      |\n",
      "| nupdates           | 1000     |\n",
      "| policy_entropy     | 2.08     |\n",
      "| total_timesteps    | 5000     |\n",
      "| value_loss         | 0.00087  |\n",
      "---------------------------------\n",
      "Eval num_timesteps=5500, episode_reward=-5.00 +/- 0.00\n",
      "Episode length: 611.40 +/- 121.94\n",
      "---------------------------------\n",
      "| explained_variance | -520     |\n",
      "| fps                | 143      |\n",
      "| nupdates           | 1100     |\n",
      "| policy_entropy     | 2.07     |\n",
      "| total_timesteps    | 5500     |\n",
      "| value_loss         | 0.0153   |\n",
      "---------------------------------\n",
      "Eval num_timesteps=6000, episode_reward=-4.60 +/- 0.49\n",
      "Episode length: 576.60 +/- 57.32\n",
      "---------------------------------\n",
      "| explained_variance | -1.47    |\n",
      "| fps                | 142      |\n",
      "| nupdates           | 1200     |\n",
      "| policy_entropy     | 2.06     |\n",
      "| total_timesteps    | 6000     |\n",
      "| value_loss         | 0.000867 |\n",
      "---------------------------------\n",
      "Eval num_timesteps=6500, episode_reward=-5.00 +/- 0.00\n",
      "Episode length: 578.60 +/- 87.61\n",
      "---------------------------------\n",
      "| explained_variance | -76.2    |\n",
      "| fps                | 143      |\n",
      "| nupdates           | 1300     |\n",
      "| policy_entropy     | 2.07     |\n",
      "| total_timesteps    | 6500     |\n",
      "| value_loss         | 0.00365  |\n",
      "---------------------------------\n",
      "Eval num_timesteps=7000, episode_reward=-5.00 +/- 0.00\n",
      "Episode length: 614.60 +/- 71.94\n",
      "---------------------------------\n",
      "| explained_variance | -2.62    |\n",
      "| fps                | 142      |\n",
      "| nupdates           | 1400     |\n",
      "| policy_entropy     | 2.06     |\n",
      "| total_timesteps    | 7000     |\n",
      "| value_loss         | 0.00716  |\n",
      "---------------------------------\n",
      "Eval num_timesteps=7500, episode_reward=-4.80 +/- 0.40\n",
      "Episode length: 616.40 +/- 138.29\n",
      "---------------------------------\n",
      "| explained_variance | -3.83    |\n",
      "| fps                | 141      |\n",
      "| nupdates           | 1500     |\n",
      "| policy_entropy     | 2.06     |\n",
      "| total_timesteps    | 7500     |\n",
      "| value_loss         | 0.000345 |\n",
      "---------------------------------\n",
      "Eval num_timesteps=8000, episode_reward=-4.80 +/- 0.40\n",
      "Episode length: 629.20 +/- 95.37\n",
      "---------------------------------\n",
      "| explained_variance | -42.2    |\n",
      "| fps                | 140      |\n",
      "| nupdates           | 1600     |\n",
      "| policy_entropy     | 2.07     |\n",
      "| total_timesteps    | 8000     |\n",
      "| value_loss         | 0.000335 |\n",
      "---------------------------------\n",
      "Eval num_timesteps=8500, episode_reward=-5.00 +/- 0.00\n",
      "Episode length: 509.80 +/- 64.82\n",
      "---------------------------------\n",
      "| explained_variance | -14.3    |\n",
      "| fps                | 141      |\n",
      "| nupdates           | 1700     |\n",
      "| policy_entropy     | 2.06     |\n",
      "| total_timesteps    | 8500     |\n",
      "| value_loss         | 0.00465  |\n",
      "---------------------------------\n",
      "Eval num_timesteps=9000, episode_reward=-4.80 +/- 0.40\n",
      "Episode length: 581.20 +/- 50.76\n",
      "---------------------------------\n",
      "| explained_variance | -54.2    |\n",
      "| fps                | 141      |\n",
      "| nupdates           | 1800     |\n",
      "| policy_entropy     | 2.07     |\n",
      "| total_timesteps    | 9000     |\n",
      "| value_loss         | 0.00451  |\n",
      "---------------------------------\n"
     ]
    },
    {
     "name": "stdout",
     "output_type": "stream",
     "text": [
      "Eval num_timesteps=9500, episode_reward=-4.60 +/- 0.49\n",
      "Episode length: 605.00 +/- 80.07\n",
      "---------------------------------\n",
      "| explained_variance | 0.948    |\n",
      "| fps                | 142      |\n",
      "| nupdates           | 1900     |\n",
      "| policy_entropy     | 2.03     |\n",
      "| total_timesteps    | 9500     |\n",
      "| value_loss         | 0.000208 |\n",
      "---------------------------------\n",
      "Eval num_timesteps=10000, episode_reward=-4.80 +/- 0.40\n",
      "Episode length: 625.00 +/- 85.11\n",
      "---------------------------------\n",
      "| explained_variance | -2.85    |\n",
      "| fps                | 141      |\n",
      "| nupdates           | 2000     |\n",
      "| policy_entropy     | 2.06     |\n",
      "| total_timesteps    | 10000    |\n",
      "| value_loss         | 0.00386  |\n",
      "---------------------------------\n",
      "mean_reward:-4.82 +/- 0.48\n"
     ]
    }
   ],
   "source": [
    "env = gym.make('SlimeVolley-v0')\n",
    "eval_env = gym.make('SlimeVolley-v0')\n",
    "\n",
    "eval_callback = EvalCallback(eval_env, best_model_save_path='./logs/',\n",
    "                             log_path='./logs/', eval_freq=500,\n",
    "                             deterministic=False, render=False)\n",
    "\n",
    "model = A2C('MlpPolicy', env, verbose=1)\n",
    "model.learn(total_timesteps=10000, callback=eval_callback)\n",
    "\n",
    "# Evaluate the trained agent\n",
    "mean_reward, std_reward = evaluate_policy(model, eval_env, n_eval_episodes=100)\n",
    "\n",
    "print(f\"mean_reward:{mean_reward:.2f} +/- {std_reward:.2f}\")"
   ]
  },
  {
   "cell_type": "markdown",
   "id": "8499b7a6",
   "metadata": {},
   "source": [
    "## Video"
   ]
  },
  {
   "cell_type": "code",
   "execution_count": 24,
   "id": "24fa8a07",
   "metadata": {},
   "outputs": [
    {
     "name": "stdout",
     "output_type": "stream",
     "text": [
      "Episode finished after 428 timesteps\n"
     ]
    }
   ],
   "source": [
    "env = wrappers.Monitor(eval_env, './videos/SlimeVolley' + time.strftime('%Y_%m_%d_%H_%M') + '_A2C' +'/', force = True)\n",
    "state = env.reset()\n",
    "t=0\n",
    "while True:\n",
    "    t+=1\n",
    "    env.render()\n",
    "    action, _states = model.predict(state)\n",
    "    state, reward, done, info = env.step(action)\n",
    "    if done:\n",
    "        print(\"Episode finished after {} timesteps\".format(t+1))\n",
    "        break\n",
    "env.close()\n",
    "eval_env.close()"
   ]
  }
 ],
 "metadata": {
  "kernelspec": {
   "display_name": "Python 3 (ipykernel)",
   "language": "python",
   "name": "python3"
  },
  "language_info": {
   "codemirror_mode": {
    "name": "ipython",
    "version": 3
   },
   "file_extension": ".py",
   "mimetype": "text/x-python",
   "name": "python",
   "nbconvert_exporter": "python",
   "pygments_lexer": "ipython3",
   "version": "3.7.11"
  }
 },
 "nbformat": 4,
 "nbformat_minor": 5
}
